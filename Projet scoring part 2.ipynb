{
 "cells": [
  {
   "attachments": {},
   "cell_type": "markdown",
   "id": "f093ed20",
   "metadata": {},
   "source": [
    "# Analyse descriptive des données bancaires"
   ]
  },
  {
   "attachments": {},
   "cell_type": "markdown",
   "id": "8cd36ccb",
   "metadata": {},
   "source": [
    "# Régression Logistique / Grille de score"
   ]
  },
  {
   "cell_type": "markdown",
   "id": "43088659",
   "metadata": {},
   "source": [
    "# Machine learning"
   ]
  },
  {
   "cell_type": "code",
   "execution_count": null,
   "id": "925aba42",
   "metadata": {},
   "outputs": [],
   "source": []
  }
 ],
 "metadata": {
  "kernelspec": {
   "display_name": "Python 3 (ipykernel)",
   "language": "python",
   "name": "python3"
  },
  "language_info": {
   "codemirror_mode": {
    "name": "ipython",
    "version": 3
   },
   "file_extension": ".py",
   "mimetype": "text/x-python",
   "name": "python",
   "nbconvert_exporter": "python",
   "pygments_lexer": "ipython3",
   "version": "3.10.9"
  }
 },
 "nbformat": 4,
 "nbformat_minor": 5
}
